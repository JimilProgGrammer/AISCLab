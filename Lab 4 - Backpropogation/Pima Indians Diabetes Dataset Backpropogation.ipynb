{
 "cells": [
  {
   "cell_type": "code",
   "execution_count": 1,
   "metadata": {},
   "outputs": [],
   "source": [
    "# Imports\n",
    "import pandas as pd\n",
    "import numpy as np\n",
    "from sklearn.model_selection import train_test_split\n",
    "from scipy.special import expit\n",
    "import sys"
   ]
  },
  {
   "cell_type": "code",
   "execution_count": 2,
   "metadata": {},
   "outputs": [
    {
     "data": {
      "text/html": [
       "<div>\n",
       "<style scoped>\n",
       "    .dataframe tbody tr th:only-of-type {\n",
       "        vertical-align: middle;\n",
       "    }\n",
       "\n",
       "    .dataframe tbody tr th {\n",
       "        vertical-align: top;\n",
       "    }\n",
       "\n",
       "    .dataframe thead th {\n",
       "        text-align: right;\n",
       "    }\n",
       "</style>\n",
       "<table border=\"1\" class=\"dataframe\">\n",
       "  <thead>\n",
       "    <tr style=\"text-align: right;\">\n",
       "      <th></th>\n",
       "      <th>Pregnancies</th>\n",
       "      <th>Glucose</th>\n",
       "      <th>Blood Pressure</th>\n",
       "      <th>Skin Thickness</th>\n",
       "      <th>Insulin</th>\n",
       "      <th>BMI</th>\n",
       "      <th>DiabetesPedigreeFunction</th>\n",
       "      <th>Age</th>\n",
       "      <th>Outcome</th>\n",
       "    </tr>\n",
       "  </thead>\n",
       "  <tbody>\n",
       "    <tr>\n",
       "      <td>0</td>\n",
       "      <td>6</td>\n",
       "      <td>148</td>\n",
       "      <td>72</td>\n",
       "      <td>35</td>\n",
       "      <td>0</td>\n",
       "      <td>33.6</td>\n",
       "      <td>0.627</td>\n",
       "      <td>50</td>\n",
       "      <td>1</td>\n",
       "    </tr>\n",
       "    <tr>\n",
       "      <td>1</td>\n",
       "      <td>1</td>\n",
       "      <td>85</td>\n",
       "      <td>66</td>\n",
       "      <td>29</td>\n",
       "      <td>0</td>\n",
       "      <td>26.6</td>\n",
       "      <td>0.351</td>\n",
       "      <td>31</td>\n",
       "      <td>0</td>\n",
       "    </tr>\n",
       "    <tr>\n",
       "      <td>2</td>\n",
       "      <td>8</td>\n",
       "      <td>183</td>\n",
       "      <td>64</td>\n",
       "      <td>0</td>\n",
       "      <td>0</td>\n",
       "      <td>23.3</td>\n",
       "      <td>0.672</td>\n",
       "      <td>32</td>\n",
       "      <td>1</td>\n",
       "    </tr>\n",
       "    <tr>\n",
       "      <td>3</td>\n",
       "      <td>1</td>\n",
       "      <td>89</td>\n",
       "      <td>66</td>\n",
       "      <td>23</td>\n",
       "      <td>94</td>\n",
       "      <td>28.1</td>\n",
       "      <td>0.167</td>\n",
       "      <td>21</td>\n",
       "      <td>0</td>\n",
       "    </tr>\n",
       "    <tr>\n",
       "      <td>4</td>\n",
       "      <td>0</td>\n",
       "      <td>137</td>\n",
       "      <td>40</td>\n",
       "      <td>35</td>\n",
       "      <td>168</td>\n",
       "      <td>43.1</td>\n",
       "      <td>2.288</td>\n",
       "      <td>33</td>\n",
       "      <td>1</td>\n",
       "    </tr>\n",
       "  </tbody>\n",
       "</table>\n",
       "</div>"
      ],
      "text/plain": [
       "   Pregnancies  Glucose  Blood Pressure  Skin Thickness  Insulin   BMI  \\\n",
       "0            6      148              72              35        0  33.6   \n",
       "1            1       85              66              29        0  26.6   \n",
       "2            8      183              64               0        0  23.3   \n",
       "3            1       89              66              23       94  28.1   \n",
       "4            0      137              40              35      168  43.1   \n",
       "\n",
       "   DiabetesPedigreeFunction  Age  Outcome  \n",
       "0                     0.627   50        1  \n",
       "1                     0.351   31        0  \n",
       "2                     0.672   32        1  \n",
       "3                     0.167   21        0  \n",
       "4                     2.288   33        1  "
      ]
     },
     "execution_count": 2,
     "metadata": {},
     "output_type": "execute_result"
    }
   ],
   "source": [
    "# Read the dataset\n",
    "diabetes = pd.read_csv(\"data.csv\")\n",
    "diabetes.head()"
   ]
  },
  {
   "cell_type": "code",
   "execution_count": 3,
   "metadata": {},
   "outputs": [],
   "source": [
    "X = diabetes.drop(labels=['Outcome'], axis=1)\n",
    "y = diabetes['Outcome']\n",
    "X_train, X_test, y_train, y_test = train_test_split(X, y, test_size=0.2, random_state=3)"
   ]
  },
  {
   "cell_type": "code",
   "execution_count": 4,
   "metadata": {},
   "outputs": [],
   "source": [
    "X_train = X_train.apply(pd.to_numeric)\n",
    "X_test = X_test.apply(pd.to_numeric)\n",
    "y_train = y_train.apply(pd.to_numeric)\n",
    "y_test = y_test.apply(pd.to_numeric)"
   ]
  },
  {
   "cell_type": "code",
   "execution_count": 11,
   "metadata": {},
   "outputs": [],
   "source": [
    "X_train = X_train.values\n",
    "X_test = X_test.values\n",
    "y_train = y_train.values\n",
    "y_test = y_test.values"
   ]
  },
  {
   "cell_type": "code",
   "execution_count": 12,
   "metadata": {},
   "outputs": [],
   "source": [
    "# Define the sigmoid activator;\n",
    "def sigmoid_act(x, der=False):\n",
    "    if (der==True) : #derivative of the sigmoid\n",
    "        f = 1/(1+ np.exp(- x))*(1-1/(1+ np.exp(- x)))\n",
    "    else : # sigmoid\n",
    "        f = 1/(1+ np.exp(- x))\n",
    "    return f\n",
    "\n",
    "# Define the ReLU activator if needed;\n",
    "def ReLU_act(x, der=False):\n",
    "    if (der == True): # the derivative of the ReLU is the Heaviside Theta\n",
    "        f = np.heaviside(x, 1)\n",
    "    else :\n",
    "        f = np.maximum(x, 0)\n",
    "    return f"
   ]
  },
  {
   "cell_type": "code",
   "execution_count": 19,
   "metadata": {},
   "outputs": [],
   "source": [
    "import matplotlib.pyplot as plt\n",
    "def ANN_train(X_train, Y_train, p=4, eta=0.0015):\n",
    "    # 0: Random initialize the relevant data \n",
    "    w1 = 2*np.random.rand(p , X_train.shape[1]) - 0.5 # Layer 1\n",
    "    b1 = np.random.rand(p)\n",
    "\n",
    "    wOut = 2*np.random.rand(p) - 0.5   # Output Layer\n",
    "    bOut = np.random.rand(1)\n",
    "\n",
    "    mu = []\n",
    "    vec_y = []\n",
    "\n",
    "    # Start looping over the training data\n",
    "    for I in range(0, X_train.shape[0]-1): #loop in all the passengers:\n",
    "    \n",
    "        # 1: input the data \n",
    "        x = X_train[I]\n",
    "    \n",
    "        # 2: Start the algorithm\n",
    "        # 2.1: Feed forward\n",
    "        z1 = ReLU_act(np.dot(w1, x) + b1) # output of the Hidden layer  \n",
    "        y = sigmoid_act(np.dot(wOut, z1) + bOut) # Output of the Output layer\n",
    "    \n",
    "        #2.2: Compute the output layer's error\n",
    "        delta_Out = 2 * (y-Y_train[I]) * sigmoid_act(y, der=True)\n",
    "    \n",
    "        #2.3: Backpropagate\n",
    "        delta_2 = delta_Out * wOut * ReLU_act(z1, der=True) # Hidden Layer Error\n",
    "    \n",
    "        # 3: Gradient descent \n",
    "        wOut = wOut - eta*delta_Out*z1  # Outer Layer\n",
    "        bOut = bOut - eta*delta_Out\n",
    "\n",
    "        w1 = w1 - eta*np.kron(delta_2, x).reshape(p, x.shape[0]) # Hidden Layer\n",
    "        b1 = b1 - eta*delta_2\n",
    "    \n",
    "        # 4. Computation of the loss function\n",
    "        mu.append((y-Y_train[I])**2)\n",
    "        vec_y.append(y)\n",
    "    \n",
    "    batch_loss = []\n",
    "    for i in range(0, 10):\n",
    "        loss_avg = 0\n",
    "        for m in range(0, 60):\n",
    "            loss_avg+=vec_y[60*i+m]/60\n",
    "        batch_loss.append(loss_avg)\n",
    "    \n",
    "    \n",
    "    plt.figure(figsize=(10,6))\n",
    "    plt.scatter(np.arange(1, len(batch_loss)+1), batch_loss, alpha=1, s=10, label='error')\n",
    "    plt.title('Averege Loss by epoch', fontsize=20)\n",
    "    plt.xlabel('Epoch', fontsize=16)\n",
    "    plt.ylabel('Loss', fontsize=16)\n",
    "    plt.show()\n",
    "    \n",
    "    return w1, b1, wOut, bOut, mu"
   ]
  },
  {
   "cell_type": "code",
   "execution_count": 35,
   "metadata": {},
   "outputs": [
    {
     "data": {
      "image/png": "[encoded data removed]",
      "text/plain": [
       "<Figure size 720x432 with 1 Axes>"
      ]
     },
     "metadata": {
      "needs_background": "light"
     },
     "output_type": "display_data"
    }
   ],
   "source": [
    "w1, b1, wOut, bOut, mu = ANN_train(X_train, y_train, p=X_train.shape[1], eta=0.0015)"
   ]
  },
  {
   "cell_type": "code",
   "execution_count": 30,
   "metadata": {},
   "outputs": [],
   "source": [
    "def ANN_pred(X_test, w1, b1, wOut, bOut, mu):\n",
    "    pred = []\n",
    "    \n",
    "    for I in range(0, X_test.shape[0]): #loop in all the passengers\n",
    "        # 1: input the data \n",
    "        x = X_test[I]\n",
    "        \n",
    "        # 2.1: Feed forward\n",
    "        z1 = ReLU_act(np.dot(w1, x) + b1) # output of the Hidden layer  \n",
    "        y = sigmoid_act(np.dot(wOut, z1) + bOut)  # Output of the Output layer\n",
    "        \n",
    "        # Append the prediction;\n",
    "        # We now need a binary classifier; we this apply an Heaviside Theta and we set to 0.5 the threshold\n",
    "        # if y < 0.5 the output is zero, otherwise is 1\n",
    "        pred.append( np.heaviside(y - 0.5, 1)[0] )    \n",
    "    return np.array(pred)"
   ]
  },
  {
   "cell_type": "code",
   "execution_count": 31,
   "metadata": {},
   "outputs": [],
   "source": [
    "predictions = ANN_pred(X_test, w1, b1, wOut, bOut, mu)"
   ]
  },
  {
   "cell_type": "code",
   "execution_count": 32,
   "metadata": {},
   "outputs": [
    {
     "data": {
      "image/png": "[encoded data removed]",
      "text/plain": [
       "<Figure size 504x504 with 2 Axes>"
      ]
     },
     "metadata": {
      "needs_background": "light"
     },
     "output_type": "display_data"
    }
   ],
   "source": [
    "from sklearn.metrics import confusion_matrix\n",
    "import seaborn as sns\n",
    "\n",
    "# Plot the confusion matrix\n",
    "cm = confusion_matrix(y_test, predictions)\n",
    "\n",
    "df_cm = pd.DataFrame(cm, index = [1,0], columns = [1,0])\n",
    "plt.figure(figsize = (7,7))\n",
    "sns.heatmap(df_cm, annot=True, cmap=plt.cm.Blues, fmt='g')\n",
    "plt.xlabel(\"Predicted Class\", fontsize=18)\n",
    "plt.ylabel(\"True Class\", fontsize=18)\n",
    "plt.show()"
   ]
  },
  {
   "cell_type": "code",
   "execution_count": 1,
   "metadata": {},
   "outputs": [],
   "source": [
    "def get_model_summary():\n",
    "    print(\"---------------------------------------------------------------\")\n",
    "    print(\"Layer            | Neurons            | Activation            |\")\n",
    "    print(\"---------------------------------------------------------------\")\n",
    "    print(\"Input(0)         | 8                  |                       |\")\n",
    "    print(\"---------------------------------------------------------------\")\n",
    "    print(\"Hidden(1)        | 4                  | ReLU                  |\")\n",
    "    print(\"---------------------------------------------------------------\")\n",
    "    print(\"Output(2)        | 1                  | Sigmoid               |\")\n",
    "    print(\"---------------------------------------------------------------\")"
   ]
  },
  {
   "cell_type": "code",
   "execution_count": 2,
   "metadata": {},
   "outputs": [
    {
     "name": "stdout",
     "output_type": "stream",
     "text": [
      "---------------------------------------------------------------\n",
      "Layer            | Neurons            | Activation            |\n",
      "---------------------------------------------------------------\n",
      "Input(0)         | 8                  |                       |\n",
      "---------------------------------------------------------------\n",
      "Hidden(1)        | 4                  | ReLU                  |\n",
      "---------------------------------------------------------------\n",
      "Output(2)        | 1                  | Sigmoid               |\n",
      "---------------------------------------------------------------\n"
     ]
    }
   ],
   "source": [
    "get_model_summary()"
   ]
  }
 ],
 "metadata": {
  "kernelspec": {
   "display_name": "Python 3",
   "language": "python",
   "name": "python3"
  },
  "language_info": {
   "codemirror_mode": {
    "name": "ipython",
    "version": 3
   },
   "file_extension": ".py",
   "mimetype": "text/x-python",
   "name": "python",
   "nbconvert_exporter": "python",
   "pygments_lexer": "ipython3",
   "version": "3.7.4"
  }
 },
 "nbformat": 4,
 "nbformat_minor": 2
}
